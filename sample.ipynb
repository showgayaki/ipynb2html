{
  "nbformat": 4,
  "nbformat_minor": 0,
  "metadata": {
    "colab": {
      "name": "sample.ipynb",
      "provenance": [],
      "collapsed_sections": [],
      "authorship_tag": "ABX9TyM5P5/wVR68KaT2Pv5sDsg/",
      "include_colab_link": true
    },
    "kernelspec": {
      "name": "python3",
      "display_name": "Python 3"
    }
  },
  "cells": [
    {
      "cell_type": "markdown",
      "metadata": {
        "id": "view-in-github",
        "colab_type": "text"
      },
      "source": [
        "<a href=\"https://colab.research.google.com/github/showgayaki/ipynb2html/blob/master/sample.ipynb\" target=\"_parent\"><img src=\"https://colab.research.google.com/assets/colab-badge.svg\" alt=\"Open In Colab\"/></a>"
      ]
    },
    {
      "cell_type": "markdown",
      "metadata": {
        "id": "0UqXTuZzIGWI"
      },
      "source": [
        "# h1\n",
        "\n",
        "## h2\n",
        "\n",
        "### h3\n",
        "\n",
        "#### h4\n",
        "\n",
        "##### h5\n",
        "\n",
        "###### h6\n",
        "\n",
        "- リスト1\n",
        "  - ネストリスト1-1\n",
        "  - ネストリスト1-2\n",
        "- リスト2\n",
        "\n",
        "1. list1\n",
        "  1. ネストリスト1-1\n",
        "  2. ネストリスト1-2\n",
        "2. list2\n",
        "  - ネストリスト2-1\n",
        "  - ネストリスト2-2\n",
        "\n",
        "**ボールド(\\<strong>\\</strong>)**\n",
        "\n",
        "_イタリック_\n",
        "\n",
        "`コード(<code></code>)`\n",
        "\n",
        "[リンク](url)\n",
        "\n",
        "|header1|header2|header3|\n",
        "|:--|--:|:--:|\n",
        "|align left|align right|align center|\n",
        "|a|b|c|\n",
        "\n",
        "> 引用符\n",
        "> \n",
        "> blockquote\n",
        "\n",
        "```\n",
        "pre\n",
        "    コードブロック\n",
        "```\n",
        "\n",
        "\n"
      ]
    }
  ]
}
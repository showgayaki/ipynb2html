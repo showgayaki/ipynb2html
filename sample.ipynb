{
  "nbformat": 4,
  "nbformat_minor": 0,
  "metadata": {
    "colab": {
      "name": "sample.ipynb",
      "provenance": [],
      "collapsed_sections": [],
      "authorship_tag": "ABX9TyO9C5/+MiD7WQN/ilOJur2j"
    },
    "kernelspec": {
      "name": "python3",
      "display_name": "Python 3"
    }
  },
  "cells": [
    {
      "cell_type": "markdown",
      "metadata": {
        "id": "0UqXTuZzIGWI"
      },
      "source": [
        "# h1\n",
        "\n",
        "## h2\n",
        "\n",
        "### h3\n",
        "\n",
        "#### h4\n",
        "\n",
        "##### h5\n",
        "\n",
        "###### h6\n",
        "\n",
        "- リスト1\n",
        "  - ネストリスト1-1\n",
        "  - ネストリスト1-2\n",
        "- リスト2\n",
        "\n",
        "1. list1\n",
        "  1. ネストリスト1-1\n",
        "  2. ネストリスト1-2\n",
        "2. list2\n",
        "  - ネストリスト2-1\n",
        "  - ネストリスト2-2\n",
        "\n",
        "**ボールド**\n",
        "\n",
        "_イタリック_\n",
        "\n",
        "`コード(<code></code>)`\n",
        "\n",
        "[リンク](url)\n",
        "\n",
        "|header1|header2|header3|\n",
        "|:--|--:|:--:|\n",
        "|align left|align right|align center|\n",
        "|a|b|c|\n",
        "\n",
        "> 引用符\n",
        "> \n",
        "> blockquote\n",
        "\n",
        "```\n",
        "pre\n",
        "    コードブロック\n",
        "```\n",
        "\n",
        "\n"
      ]
    },
    {
      "cell_type": "code",
      "metadata": {
        "id": "AD0Cpy3lbycw"
      },
      "source": [
        ""
      ],
      "execution_count": null,
      "outputs": []
    }
  ]
}